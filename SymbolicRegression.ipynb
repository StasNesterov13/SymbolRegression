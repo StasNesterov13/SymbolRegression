{
  "cells": [
    {
      "cell_type": "markdown",
      "metadata": {
        "id": "view-in-github",
        "colab_type": "text"
      },
      "source": [
        "<a href=\"https://colab.research.google.com/github/StasNesterov13/SymbolRegression/blob/main/SymbolicRegression.ipynb\" target=\"_parent\"><img src=\"https://colab.research.google.com/assets/colab-badge.svg\" alt=\"Open In Colab\"/></a>"
      ]
    },
    {
      "cell_type": "code",
      "execution_count": null,
      "metadata": {
        "id": "SlfeQbsHXMFW"
      },
      "outputs": [],
      "source": [
        "import numpy as np\n",
        "import random\n",
        "import matplotlib.pyplot as plt\n",
        "from sympy import symbols, lambdify, simplify\n",
        "from numpy import log, exp\n",
        "from scipy.stats import truncnorm\n",
        "import warnings\n",
        "from sys import set_int_max_str_digits\n",
        "set_int_max_str_digits(40000)\n",
        "warnings.filterwarnings(\"ignore\", category=RuntimeWarning)"
      ]
    },
    {
      "cell_type": "code",
      "execution_count": null,
      "metadata": {
        "id": "LEQ4aO7lXP9f"
      },
      "outputs": [],
      "source": [
        "# функция приспособленности\n",
        "def fitness(pop):\n",
        "    f = lambdify(x, function(pop))\n",
        "    return sum((f1 - f(x1)) ** 2)"
      ]
    },
    {
      "cell_type": "code",
      "execution_count": null,
      "metadata": {
        "id": "C6G1Ymb_XVO_"
      },
      "outputs": [],
      "source": [
        "# создание хромосомы\n",
        "def chrome(l):\n",
        "    stroka = []\n",
        "    t = 0\n",
        "    while len(stroka) < l or t != 1:\n",
        "        if t < 1:\n",
        "            r = random.choice(operand)\n",
        "            t += 1\n",
        "            r = str(random.uniform(-10, 10)) if r == \"y\" else r\n",
        "            stroka.append(r)\n",
        "        elif t < 2:\n",
        "            un = random.choice(operator_un)\n",
        "            oper = random.choice(operand)\n",
        "            r = np.random.choice([un, oper], p=[0.3, 0.7])\n",
        "            t = t + 1 if r in operand else t + 0\n",
        "            r = str(random.uniform(-10, 10)) if r == \"y\" else r\n",
        "            stroka.append(r)\n",
        "        else:\n",
        "            bin = random.choice(operator_bin)\n",
        "            un = random.choice(operator_un)\n",
        "            oper = random.choice(operand)\n",
        "            r = np.random.choice([bin, un, oper], p=[0.5, 0.3, 0.2])\n",
        "            t = t + 1 if r in operand else t - 1 if r in operator_bin else t + 0\n",
        "            r = str(random.uniform(-10, 10)) if r == \"y\" else r\n",
        "            stroka.append(r)\n",
        "    if len(stroka) > l + 10:\n",
        "      stroka = chrome(l)\n",
        "    return stroka"
      ]
    },
    {
      "cell_type": "code",
      "execution_count": null,
      "metadata": {
        "id": "0-g4OhLfQc0-"
      },
      "outputs": [],
      "source": [
        "# инфиксная запись\n",
        "def function(stroka):\n",
        "    stack = []\n",
        "    for i in stroka:\n",
        "        if i in operator_bin:\n",
        "            stack.append(\"(\" + stack[-1] + i + stack[-2] + \")\")\n",
        "            stack.remove(stack[-3])\n",
        "            stack.remove(stack[-2])\n",
        "        elif i in operator_un:\n",
        "            stack[-1] = \"(\" + stack[-1] + \")\"\n",
        "            stack.append(\"-\" + stack[-1])\n",
        "            stack.remove(stack[-2])\n",
        "        else:\n",
        "            stack.append(i)\n",
        "    stack[-1] = stack[-1].replace(\"^\", \"**\")\n",
        "    return stack[-1]"
      ]
    },
    {
      "cell_type": "code",
      "execution_count": null,
      "metadata": {
        "id": "nL4vieLAQS3J"
      },
      "outputs": [],
      "source": [
        "# создание подходящей хромомосомы\n",
        "def create_population(l):\n",
        "    c = chrome(l)\n",
        "    try:\n",
        "        if np.isinf(fitness(c)) or np.isnan(fitness(c)) or np.iscomplex(fitness(c)):\n",
        "            c = create_population(l)\n",
        "    except KeyError:\n",
        "        c = create_population(l)\n",
        "    except OverflowError:\n",
        "        c = create_population(l)\n",
        "    return c"
      ]
    },
    {
      "cell_type": "code",
      "execution_count": null,
      "metadata": {
        "id": "TbE8nGXLQl5m"
      },
      "outputs": [],
      "source": [
        "# список функций приспособленности\n",
        "def list_fitness():\n",
        "    return [fitness(i) for i in population]"
      ]
    },
    {
      "cell_type": "code",
      "execution_count": null,
      "metadata": {
        "id": "ECuVK_ApXYUb"
      },
      "outputs": [],
      "source": [
        "# селекция\n",
        "def selection(list_fit, num=25):\n",
        "    best_pop = []\n",
        "    for i in range(num):\n",
        "        best_pop.append(population[np.where(list_fit == sorted(list_fit)[i])[0][0]])\n",
        "    return best_pop"
      ]
    },
    {
      "cell_type": "code",
      "execution_count": null,
      "metadata": {
        "id": "OpzREQug4-gq"
      },
      "outputs": [],
      "source": [
        "# нахождение худших хромосом\n",
        "def selection_bad(list_fit):\n",
        "    bad_num = []\n",
        "    for i in range(-1, -11, -1):\n",
        "        bad_num.append(np.where(list_fit == sorted(list_fit)[i])[0][0])\n",
        "    return bad_num"
      ]
    },
    {
      "cell_type": "code",
      "execution_count": null,
      "metadata": {
        "id": "62lzhtl9XbF9"
      },
      "outputs": [],
      "source": [
        "# скрещивание\n",
        "def undertrees(ax):\n",
        "    stack = []\n",
        "    stack_tree = []\n",
        "    indexes = []\n",
        "    if len(ax) == 1:\n",
        "        stack_tree.append(ax)\n",
        "        indexes.append(0)\n",
        "    else:\n",
        "        for i in range(len(ax)):\n",
        "            if ax[i] in operator_bin:\n",
        "                stack.append(stack[-2] + stack[-1] + [ax[i]])\n",
        "                stack.remove(stack[-3])\n",
        "                stack.remove(stack[-2])\n",
        "                stack_tree.append(stack[-1])\n",
        "                indexes.append(i - len(stack[-1]) + 1)\n",
        "            elif ax[i] in operator_un:\n",
        "                stack.append(stack[-1] + [\"-\"])\n",
        "                stack.remove(stack[-2])\n",
        "                stack_tree.append(stack[-1])\n",
        "                indexes.append(i - len(stack[-1]) + 1)\n",
        "            else:\n",
        "                stack.append([ax[i]])\n",
        "    return (indexes, stack_tree)\n",
        "\n",
        "\n",
        "def cross(select):\n",
        "    kids = []\n",
        "    for i in range(10):\n",
        "        par1, par2 = random.choice(select), random.choice(select)\n",
        "        ind1, tree1 = undertrees(par1)\n",
        "        ind2, tree2 = undertrees(par2)\n",
        "        bp1 = random.randint(0, len(tree1) - 1)\n",
        "        bp2 = random.randint(0, len(tree2) - 1)\n",
        "        kid1 = par1[: ind1[bp1]] + tree2[bp2] + par1[ind1[bp1] + len(tree1[bp1]) :]\n",
        "        kid2 = par2[: ind2[bp2]] + tree1[bp1] + par2[ind2[bp2] + len(tree2[bp2]) :]\n",
        "        kids.append(random.choice([kid1, kid2]))\n",
        "    return kids\n"
      ]
    },
    {
      "cell_type": "code",
      "execution_count": null,
      "metadata": {
        "id": "XroS_1WlXchE"
      },
      "outputs": [],
      "source": [
        "# мутация\n",
        "def mut1(kid):\n",
        "    kid_copy = kid.copy()\n",
        "    try:\n",
        "        i = random.randint(0, len(kid) - 1)\n",
        "        d = [j in operator_bin for j in kid]\n",
        "        if sum(d):\n",
        "            while kid[i] not in operator_bin:\n",
        "                i = random.randint(0, len(kid) - 1)\n",
        "            temp_copy = operator_bin.copy()\n",
        "            temp_copy.remove(kid[i])\n",
        "            kid[i] = random.choice(temp_copy)\n",
        "        else:\n",
        "            return 0\n",
        "        if (\n",
        "            np.isinf(fitness(kid))\n",
        "            or np.isnan(fitness(kid))\n",
        "            or np.iscomplex(fitness(kid))\n",
        "        ):\n",
        "            kid = mutation_choice(kid_copy)\n",
        "    except KeyError:\n",
        "        kid = mutation_choice(kid_copy)\n",
        "    except OverflowError:\n",
        "        kid = mutation_choice(kid_copy)\n",
        "    return kid\n",
        "\n",
        "\n",
        "def mut2(kid):\n",
        "    kid_copy = kid.copy()\n",
        "    try:\n",
        "        ind, tree = undertrees(kid)\n",
        "        bp = random.randint(0, len(tree) - 1)\n",
        "        new_tree = chrome(5)\n",
        "        kid = kid[: ind[bp]] + new_tree + kid[ind[bp] + len(tree[bp]) :]\n",
        "        if (\n",
        "            np.isinf(fitness(kid))\n",
        "            or np.isnan(fitness(kid))\n",
        "            or np.iscomplex(fitness(kid))\n",
        "        ):\n",
        "            kid = mutation_choice(kid_copy)\n",
        "    except KeyError:\n",
        "        kid = mutation_choice(kid_copy)\n",
        "    except OverflowError:\n",
        "        kid = mutation_choice(kid_copy)\n",
        "    return kid\n",
        "\n",
        "\n",
        "def mut3(kid):\n",
        "    kid_copy = kid.copy()\n",
        "    try:\n",
        "        d = [j in operator_un for j in kid]\n",
        "        if sum(d):\n",
        "            i = random.randint(0, len(kid) - 1)\n",
        "            while kid[i] not in operator_un:\n",
        "                i = random.randint(0, len(kid) - 1)\n",
        "            kid.pop(i)\n",
        "        else:\n",
        "            return 0\n",
        "        if (\n",
        "            np.isinf(fitness(kid))\n",
        "            or np.isnan(fitness(kid))\n",
        "            or np.iscomplex(fitness(kid))\n",
        "        ):\n",
        "            kid = mutation_choice(kid_copy)\n",
        "    except KeyError:\n",
        "        kid = mutation_choice(kid_copy)\n",
        "    except OverflowError:\n",
        "        kid = mutation_choice(kid_copy)\n",
        "    return kid\n",
        "\n",
        "\n",
        "def mut4(kid):\n",
        "    def isDigit(x):\n",
        "        try:\n",
        "            float(x)\n",
        "            return True\n",
        "        except ValueError:\n",
        "            return False\n",
        "\n",
        "    kid_copy = kid.copy()\n",
        "    try:\n",
        "        i = random.randint(0, len(kid) - 1)\n",
        "        d = [isDigit(j) for j in kid]\n",
        "        if sum(d):\n",
        "            while not isDigit(kid[i]):\n",
        "                i = random.randint(0, len(kid) - 1)\n",
        "            kid[i] = str(random.uniform(-10, 10))\n",
        "        else:\n",
        "            return 0\n",
        "        if (\n",
        "            np.isinf(fitness(kid))\n",
        "            or np.isnan(fitness(kid))\n",
        "            or np.iscomplex(fitness(kid))\n",
        "        ):\n",
        "            kid = mutation_choice(kid_copy)\n",
        "    except KeyError:\n",
        "        kid = mutation_choice(kid_copy)\n",
        "    except OverflowError:\n",
        "        kid = mutation_choice(kid_copy)\n",
        "    return kid"
      ]
    },
    {
      "cell_type": "code",
      "execution_count": null,
      "metadata": {
        "id": "i9MwF9gLXmw5"
      },
      "outputs": [],
      "source": [
        "# выбор мутации\n",
        "def mutation_choice(kid):\n",
        "    choice = np.random.choice([1, 2, 3, 4], p=[0.2, 0.4, 0.1, 0.3])\n",
        "    if choice == 1:\n",
        "        kid_mut = mut1(kid)\n",
        "    elif choice == 2:\n",
        "        kid_mut = mut2(kid)\n",
        "    elif choice == 3:\n",
        "        kid_mut = mut3(kid)\n",
        "    else:\n",
        "        kid_mut = mut4(kid)\n",
        "    if kid_mut == 0:\n",
        "        kid_mut = mutation_choice(kid)\n",
        "    if len(kid_mut) > m + 20:\n",
        "        kid_mut = mutation_choice(kid)\n",
        "    return kid_mut\n"
      ]
    },
    {
      "cell_type": "code",
      "execution_count": null,
      "metadata": {
        "id": "5lFSoZUDXnXQ"
      },
      "outputs": [],
      "source": [
        "# создание новой популяции\n",
        "def new_population(population):\n",
        "    list_fit = list_fitness()\n",
        "    print(sorted(list_fit)[0])\n",
        "    error.append(sorted(list_fit)[0])\n",
        "    select = selection(list_fit)\n",
        "    select_bad = selection_bad(list_fit)\n",
        "    kids = cross(select)\n",
        "    for i in range(len(select_bad)):\n",
        "        kids[i] = mutation_choice(kids[i])\n",
        "        population.append(create_population(m))\n",
        "        population.append(kids[i])\n",
        "    return population"
      ]
    },
    {
      "cell_type": "code",
      "execution_count": null,
      "metadata": {
        "id": "k4iQV96HXrOf"
      },
      "outputs": [],
      "source": [
        "x, y = symbols(\"x, y\")\n",
        "x1 = np.array(sorted(np.random.uniform(-10, 10, 100)))\n",
        "f1 = np.array(x1 ** 2 - 2 * x1 + 3) + np.random.normal(0, 1, 100)\n",
        "operand = [\"x\", \"y\"]\n",
        "operator_bin = [\"*\", \"^\", \"+\"]\n",
        "operator_un = [\"-\"]"
      ]
    },
    {
      "cell_type": "code",
      "execution_count": null,
      "metadata": {
        "id": "KL-jYg9EXvhH"
      },
      "outputs": [],
      "source": [
        "N = 100 #размер популяции\n",
        "m = 10 #количество генов в хромомсоме\n",
        "k = 100 #максимальное количество итераций\n",
        "error=[]\n",
        "population = [create_population(m) for i in range(N)]"
      ]
    },
    {
      "cell_type": "code",
      "execution_count": null,
      "metadata": {
        "colab": {
          "base_uri": "https://localhost:8080/"
        },
        "id": "Tb4t69vnXw_T",
        "outputId": "9babd26d-e01f-4563-ddc6-0b453b0fac3f"
      },
      "outputs": [
        {
          "output_type": "stream",
          "name": "stdout",
          "text": [
            "89.28312325032773\n",
            "89.28312325032773\n",
            "89.28312325032773\n",
            "89.28312325032773\n",
            "89.28312325032773\n",
            "89.28312325032773\n",
            "89.28312325032773\n",
            "89.28312325032773\n",
            "89.28312325032773\n",
            "89.28312325032773\n",
            "x**2 - 2*x + 3.029808676502828\n"
          ]
        }
      ],
      "source": [
        "for i in range(k):\n",
        "  population = selection(list_fitness(), 100)\n",
        "  population = new_population(population)\n",
        "print(simplify(function(selection(list_fitness())[0])))"
      ]
    },
    {
      "cell_type": "code",
      "execution_count": null,
      "metadata": {
        "colab": {
          "base_uri": "https://localhost:8080/",
          "height": 613
        },
        "id": "AUZcoOMibhnj",
        "outputId": "fe4085ed-e921-4247-9bec-5262b04e386f"
      },
      "outputs": [
        {
          "output_type": "stream",
          "name": "stdout",
          "text": [
            "x**2 - 2*x + 3.029808676502828\n"
          ]
        },
        {
          "output_type": "display_data",
          "data": {
            "text/plain": [
              "<Figure size 1440x720 with 1 Axes>"
            ],
            "image/png": "[encoded data removed]"
          },
          "metadata": {
            "needs_background": "light"
          }
        }
      ],
      "source": [
        "f2 = lambdify(x, function(selection(list_fitness())[0]))\n",
        "plt.figure(figsize=(20,10))\n",
        "plt.scatter(x1, f2(x1), color='green',s=10)\n",
        "plt.plot(x1, f1, color='red')\n",
        "plt.gca().set(xlim=(-20, 20), ylim=(0, 100))\n",
        "print(simplify(function(selection(list_fitness())[0])))"
      ]
    },
    {
      "cell_type": "code",
      "execution_count": null,
      "metadata": {
        "colab": {
          "base_uri": "https://localhost:8080/",
          "height": 282
        },
        "id": "DIiTLcU8odvh",
        "outputId": "da9b3300-c630-42dd-e7c4-ff46c580b42c"
      },
      "outputs": [
        {
          "output_type": "execute_result",
          "data": {
            "text/plain": [
              "[<matplotlib.lines.Line2D at 0x7fc604e08e10>]"
            ]
          },
          "metadata": {},
          "execution_count": 77
        },
        {
          "output_type": "display_data",
          "data": {
            "text/plain": [
              "<Figure size 432x288 with 1 Axes>"
            ],
            "image/png": "[encoded data removed]"
          },
          "metadata": {
            "needs_background": "light"
          }
        }
      ],
      "source": [
        "plt.plot(range(len(error)),error)"
      ]
    }
  ],
  "metadata": {
    "colab": {
      "provenance": [],
      "include_colab_link": true
    },
    "kernelspec": {
      "display_name": "Python 3",
      "name": "python3"
    },
    "language_info": {
      "name": "python"
    }
  },
  "nbformat": 4,
  "nbformat_minor": 0
}